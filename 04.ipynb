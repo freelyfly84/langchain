{
 "cells": [
  {
   "cell_type": "markdown",
   "id": "caf8f88e",
   "metadata": {},
   "source": [
    "### Chatbot Memory\n",
    "\n",
    "- 상태 저장 방식\n",
    "- 상태 쿼리 방식"
   ]
  },
  {
   "cell_type": "markdown",
   "id": "e5c4b3b7",
   "metadata": {},
   "source": [
    "##### State Graph"
   ]
  },
  {
   "cell_type": "code",
   "execution_count": 6,
   "id": "d0952890",
   "metadata": {},
   "outputs": [],
   "source": [
    "from typing import TypedDict\n",
    "from langgraph.graph import END, START, StateGraph\n",
    "\n",
    "class InputState(TypedDict):\n",
    "    string_value: str\n",
    "    numeric_value: int\n",
    "\n",
    "\n",
    "def modify_state(input: InputState):\n",
    "    print(f\"Current value: {input}\")\n",
    "    return input\n",
    "\n",
    "graph = StateGraph(InputState)\n",
    "\n",
    "graph.add_node(\"branch_a\", modify_state)\n",
    "graph.add_node(\"branch_b\", modify_state)\n",
    "graph.add_edge(START, \"branch_a\")\n",
    "graph.add_edge(\"branch_a\", \"branch_b\")\n",
    "graph.add_edge(\"branch_b\", END)\n",
    "\n",
    "graph.set_entry_point(\"branch_a\")\n",
    "\n",
    "mygraph = graph.compile()"
   ]
  },
  {
   "cell_type": "code",
   "execution_count": 4,
   "id": "96cc1382",
   "metadata": {},
   "outputs": [
    {
     "data": {
      "image/png": "[encoded data removed]",
      "text/plain": [
       "<IPython.core.display.Image object>"
      ]
     },
     "metadata": {},
     "output_type": "display_data"
    }
   ],
   "source": [
    "from IPython.display import Image, display\n",
    "from langchain_core.runnables.graph import MermaidDrawMethod\n",
    "\n",
    "display(\n",
    "    Image(\n",
    "        mygraph.get_graph().draw_mermaid_png(\n",
    "            draw_method=MermaidDrawMethod.API,\n",
    "        )\n",
    "    )\n",
    ")"
   ]
  },
  {
   "cell_type": "code",
   "execution_count": 5,
   "id": "78940a8a",
   "metadata": {},
   "outputs": [
    {
     "name": "stdout",
     "output_type": "stream",
     "text": [
      "Current value: {'string_value': 'a'}\n",
      "Current value: {'string_value': 'a'}\n"
     ]
    },
    {
     "data": {
      "text/plain": [
       "{'string_value': 'a'}"
      ]
     },
     "execution_count": 5,
     "metadata": {},
     "output_type": "execute_result"
    }
   ],
   "source": [
    "mygraph.invoke({\"string_value\": \"a\"})"
   ]
  },
  {
   "cell_type": "code",
   "execution_count": 1,
   "id": "f3d87055",
   "metadata": {},
   "outputs": [
    {
     "name": "stdout",
     "output_type": "stream",
     "text": [
      "죄송합니다. 이전에 제가 전달한 답변은 원래 질문과 관련이 없는 것이었습니다. 제가 잘못 이해했습니다. 원래 질문인 \"나는 머신러닝을 공부하고 있습니다.\"를 불어로 번역하면 \"Je suis en train d'étudier l'apprentissage automatique.\" 가 됩니다.\n"
     ]
    }
   ],
   "source": [
    "from langchain_core.prompts import ChatPromptTemplate\n",
    "from langchain_openai import ChatOpenAI\n",
    "\n",
    "prompt = ChatPromptTemplate.from_messages([\n",
    "    (\"system\", \"당신은 유능한 에이전트입니다. 모든 질문에 최선을 다해 답을 주세요.\"),\n",
    "    (\"placeholder\", \"{messages}\"),\n",
    "])\n",
    "\n",
    "model = ChatOpenAI(model_name=\"gpt-4o-mini\")\n",
    "\n",
    "chain = prompt | model\n",
    "\n",
    "response = chain.invoke({\n",
    "    \"messages\": [\n",
    "        (\"human\", \"다음의 문장을 불어로 번역해주세요: 나는 머신러닝을 공부하고 있습니다.\"),\n",
    "        (\"ai\", \"J'adore programmer.\"),\n",
    "        (\"human\", \"방금 무슨 이야기를 했어?\"),\n",
    "    ],\n",
    "})\n",
    "\n",
    "print(response.content)\n"
   ]
  },
  {
   "cell_type": "code",
   "execution_count": 10,
   "id": "100786ef",
   "metadata": {},
   "outputs": [
    {
     "name": "stdout",
     "output_type": "stream",
     "text": [
      "{'chatbot': {'messages': [AIMessage(content='안녕하세요! 어떻게 도와드릴까요?', additional_kwargs={'refusal': None}, response_metadata={'token_usage': {'completion_tokens': 10, 'prompt_tokens': 10, 'total_tokens': 20, 'completion_tokens_details': {'accepted_prediction_tokens': 0, 'audio_tokens': 0, 'reasoning_tokens': 0, 'rejected_prediction_tokens': 0}, 'prompt_tokens_details': {'audio_tokens': 0, 'cached_tokens': 0}}, 'model_name': 'gpt-4o-mini-2024-07-18', 'system_fingerprint': 'fp_34a54ae93c', 'id': 'chatcmpl-Bo2tq0LKzZwQYOtSd5zpddy7xqLNQ', 'service_tier': 'default', 'finish_reason': 'stop', 'logprobs': None}, id='run--bec87055-88eb-4886-af06-91247a93de85-0', usage_metadata={'input_tokens': 10, 'output_tokens': 10, 'total_tokens': 20, 'input_token_details': {'audio': 0, 'cache_read': 0}, 'output_token_details': {'audio': 0, 'reasoning': 0}})]}}\n"
     ]
    }
   ],
   "source": [
    "from typing import Annotated, TypedDict\n",
    "\n",
    "from langchain_core.messages import HumanMessage\n",
    "from langchain_openai import ChatOpenAI\n",
    "from langgraph.graph import StateGraph, START, END, add_messages\n",
    "from langgraph.checkpoint.memory import MemorySaver\n",
    "\n",
    "\n",
    "class State(TypedDict):\n",
    "    messages: Annotated[list, add_messages]\n",
    "\n",
    "\n",
    "builder = StateGraph(State)\n",
    "\n",
    "model = ChatOpenAI(model_name=\"gpt-4o-mini\")\n",
    "\n",
    "\n",
    "def chatbot(state: State):\n",
    "    answer = model.invoke(state[\"messages\"])\n",
    "    return {\"messages\": [answer]}\n",
    "\n",
    "\n",
    "# Add the chatbot node\n",
    "builder.add_node(\"chatbot\", chatbot)\n",
    "\n",
    "# Add edges\n",
    "builder.add_edge(START, \"chatbot\")\n",
    "builder.add_edge(\"chatbot\", END)\n",
    "\n",
    "graph = builder.compile()\n",
    "\n",
    "# Run the graph\n",
    "input = {\"messages\": [HumanMessage(\"안녕!\")]}\n",
    "for chunk in graph.stream(input):\n",
    "    print(chunk)\n"
   ]
  },
  {
   "cell_type": "code",
   "execution_count": 11,
   "id": "6bf0ff78",
   "metadata": {},
   "outputs": [
    {
     "data": {
      "image/png": "[encoded data removed]",
      "text/plain": [
       "<IPython.core.display.Image object>"
      ]
     },
     "metadata": {},
     "output_type": "display_data"
    }
   ],
   "source": [
    "from IPython.display import Image, display\n",
    "from langchain_core.runnables.graph import MermaidDrawMethod\n",
    "\n",
    "display(\n",
    "    Image(\n",
    "        graph.get_graph().draw_mermaid_png(\n",
    "            draw_method=MermaidDrawMethod.API,\n",
    "        )\n",
    "    )\n",
    ")"
   ]
  },
  {
   "cell_type": "code",
   "execution_count": 12,
   "id": "f3426175",
   "metadata": {},
   "outputs": [
    {
     "name": "stdout",
     "output_type": "stream",
     "text": [
      "{'messages': [HumanMessage(content='안녕 나의 이름은 헨리야', additional_kwargs={}, response_metadata={}, id='ecafddf3-c266-4355-bec2-9d0d0898ed5e'), AIMessage(content='안녕, 헨리야! 만나서 반가워. 어떻게 도와줄 수 있을까?', additional_kwargs={'refusal': None}, response_metadata={'token_usage': {'completion_tokens': 22, 'prompt_tokens': 17, 'total_tokens': 39, 'completion_tokens_details': {'accepted_prediction_tokens': 0, 'audio_tokens': 0, 'reasoning_tokens': 0, 'rejected_prediction_tokens': 0}, 'prompt_tokens_details': {'audio_tokens': 0, 'cached_tokens': 0}}, 'model_name': 'gpt-4o-mini-2024-07-18', 'system_fingerprint': 'fp_34a54ae93c', 'id': 'chatcmpl-Bo2v1KYVk4znmxxurLZKi4jDmTwqD', 'service_tier': 'default', 'finish_reason': 'stop', 'logprobs': None}, id='run--8955218d-f85c-4fd5-b90a-c25220e2d345-0', usage_metadata={'input_tokens': 17, 'output_tokens': 22, 'total_tokens': 39, 'input_token_details': {'audio': 0, 'cache_read': 0}, 'output_token_details': {'audio': 0, 'reasoning': 0}})]}\n",
      "{'messages': [HumanMessage(content='안녕 나의 이름은 헨리야', additional_kwargs={}, response_metadata={}, id='ecafddf3-c266-4355-bec2-9d0d0898ed5e'), AIMessage(content='안녕, 헨리야! 만나서 반가워. 어떻게 도와줄 수 있을까?', additional_kwargs={'refusal': None}, response_metadata={'token_usage': {'completion_tokens': 22, 'prompt_tokens': 17, 'total_tokens': 39, 'completion_tokens_details': {'accepted_prediction_tokens': 0, 'audio_tokens': 0, 'reasoning_tokens': 0, 'rejected_prediction_tokens': 0}, 'prompt_tokens_details': {'audio_tokens': 0, 'cached_tokens': 0}}, 'model_name': 'gpt-4o-mini-2024-07-18', 'system_fingerprint': 'fp_34a54ae93c', 'id': 'chatcmpl-Bo2v1KYVk4znmxxurLZKi4jDmTwqD', 'service_tier': 'default', 'finish_reason': 'stop', 'logprobs': None}, id='run--8955218d-f85c-4fd5-b90a-c25220e2d345-0', usage_metadata={'input_tokens': 17, 'output_tokens': 22, 'total_tokens': 39, 'input_token_details': {'audio': 0, 'cache_read': 0}, 'output_token_details': {'audio': 0, 'reasoning': 0}}), HumanMessage(content='내 이름이 뭐야?', additional_kwargs={}, response_metadata={}, id='397be6d0-f380-41e8-812e-3a294b540049'), AIMessage(content='당신의 이름은 헨리야! 혹시 다른 질문이나 이야기하고 싶은 것이 있을까요?', additional_kwargs={'refusal': None}, response_metadata={'token_usage': {'completion_tokens': 22, 'prompt_tokens': 53, 'total_tokens': 75, 'completion_tokens_details': {'accepted_prediction_tokens': 0, 'audio_tokens': 0, 'reasoning_tokens': 0, 'rejected_prediction_tokens': 0}, 'prompt_tokens_details': {'audio_tokens': 0, 'cached_tokens': 0}}, 'model_name': 'gpt-4o-mini-2024-07-18', 'system_fingerprint': 'fp_34a54ae93c', 'id': 'chatcmpl-Bo2v2dGwZamWqq048j2ohM8S9T4rh', 'service_tier': 'default', 'finish_reason': 'stop', 'logprobs': None}, id='run--dca33cbe-abfe-4c3a-bec2-84d31d750c2e-0', usage_metadata={'input_tokens': 53, 'output_tokens': 22, 'total_tokens': 75, 'input_token_details': {'audio': 0, 'cache_read': 0}, 'output_token_details': {'audio': 0, 'reasoning': 0}})]}\n",
      "StateSnapshot(values={'messages': [HumanMessage(content='안녕 나의 이름은 헨리야', additional_kwargs={}, response_metadata={}, id='ecafddf3-c266-4355-bec2-9d0d0898ed5e'), AIMessage(content='안녕, 헨리야! 만나서 반가워. 어떻게 도와줄 수 있을까?', additional_kwargs={'refusal': None}, response_metadata={'token_usage': {'completion_tokens': 22, 'prompt_tokens': 17, 'total_tokens': 39, 'completion_tokens_details': {'accepted_prediction_tokens': 0, 'audio_tokens': 0, 'reasoning_tokens': 0, 'rejected_prediction_tokens': 0}, 'prompt_tokens_details': {'audio_tokens': 0, 'cached_tokens': 0}}, 'model_name': 'gpt-4o-mini-2024-07-18', 'system_fingerprint': 'fp_34a54ae93c', 'id': 'chatcmpl-Bo2v1KYVk4znmxxurLZKi4jDmTwqD', 'service_tier': 'default', 'finish_reason': 'stop', 'logprobs': None}, id='run--8955218d-f85c-4fd5-b90a-c25220e2d345-0', usage_metadata={'input_tokens': 17, 'output_tokens': 22, 'total_tokens': 39, 'input_token_details': {'audio': 0, 'cache_read': 0}, 'output_token_details': {'audio': 0, 'reasoning': 0}}), HumanMessage(content='내 이름이 뭐야?', additional_kwargs={}, response_metadata={}, id='397be6d0-f380-41e8-812e-3a294b540049'), AIMessage(content='당신의 이름은 헨리야! 혹시 다른 질문이나 이야기하고 싶은 것이 있을까요?', additional_kwargs={'refusal': None}, response_metadata={'token_usage': {'completion_tokens': 22, 'prompt_tokens': 53, 'total_tokens': 75, 'completion_tokens_details': {'accepted_prediction_tokens': 0, 'audio_tokens': 0, 'reasoning_tokens': 0, 'rejected_prediction_tokens': 0}, 'prompt_tokens_details': {'audio_tokens': 0, 'cached_tokens': 0}}, 'model_name': 'gpt-4o-mini-2024-07-18', 'system_fingerprint': 'fp_34a54ae93c', 'id': 'chatcmpl-Bo2v2dGwZamWqq048j2ohM8S9T4rh', 'service_tier': 'default', 'finish_reason': 'stop', 'logprobs': None}, id='run--dca33cbe-abfe-4c3a-bec2-84d31d750c2e-0', usage_metadata={'input_tokens': 53, 'output_tokens': 22, 'total_tokens': 75, 'input_token_details': {'audio': 0, 'cache_read': 0}, 'output_token_details': {'audio': 0, 'reasoning': 0}})]}, next=(), config={'configurable': {'thread_id': '1', 'checkpoint_ns': '', 'checkpoint_id': '1f055810-db34-60a9-8004-8cfe95fcabed'}}, metadata={'source': 'loop', 'writes': {'chatbot': {'messages': [AIMessage(content='당신의 이름은 헨리야! 혹시 다른 질문이나 이야기하고 싶은 것이 있을까요?', additional_kwargs={'refusal': None}, response_metadata={'token_usage': {'completion_tokens': 22, 'prompt_tokens': 53, 'total_tokens': 75, 'completion_tokens_details': {'accepted_prediction_tokens': 0, 'audio_tokens': 0, 'reasoning_tokens': 0, 'rejected_prediction_tokens': 0}, 'prompt_tokens_details': {'audio_tokens': 0, 'cached_tokens': 0}}, 'model_name': 'gpt-4o-mini-2024-07-18', 'system_fingerprint': 'fp_34a54ae93c', 'id': 'chatcmpl-Bo2v2dGwZamWqq048j2ohM8S9T4rh', 'service_tier': 'default', 'finish_reason': 'stop', 'logprobs': None}, id='run--dca33cbe-abfe-4c3a-bec2-84d31d750c2e-0', usage_metadata={'input_tokens': 53, 'output_tokens': 22, 'total_tokens': 75, 'input_token_details': {'audio': 0, 'cache_read': 0}, 'output_token_details': {'audio': 0, 'reasoning': 0}})]}}, 'step': 4, 'parents': {}, 'thread_id': '1'}, created_at='2025-06-30T07:08:41.747882+00:00', parent_config={'configurable': {'thread_id': '1', 'checkpoint_ns': '', 'checkpoint_id': '1f055810-cd7c-61c2-8003-cff771fcad2b'}}, tasks=(), interrupts=())\n"
     ]
    }
   ],
   "source": [
    "from typing import Annotated, TypedDict\n",
    "\n",
    "from langchain_core.messages import HumanMessage\n",
    "from langchain_openai import ChatOpenAI\n",
    "from langgraph.graph import StateGraph, START, END, add_messages\n",
    "from langgraph.checkpoint.memory import MemorySaver\n",
    "\n",
    "\n",
    "class State(TypedDict):\n",
    "    messages: Annotated[list, add_messages]\n",
    "\n",
    "\n",
    "builder = StateGraph(State)\n",
    "\n",
    "model = ChatOpenAI(model_name=\"gpt-4o-mini\")\n",
    "\n",
    "\n",
    "def chatbot(state: State):\n",
    "    answer = model.invoke(state[\"messages\"])\n",
    "    return {\"messages\": [answer]}\n",
    "\n",
    "\n",
    "builder.add_node(\"chatbot\", chatbot)\n",
    "builder.add_edge(START, \"chatbot\")\n",
    "builder.add_edge(\"chatbot\", END)\n",
    "\n",
    "# Add persistence with MemorySaver\n",
    "graph = builder.compile(checkpointer=MemorySaver())\n",
    "\n",
    "# Configure thread\n",
    "thread1 = {\"configurable\": {\"thread_id\": \"1\"}}\n",
    "\n",
    "# Run with persistence\n",
    "result_1 = graph.invoke({\"messages\": [HumanMessage(\"안녕 나의 이름은 헨리야\")]}, thread1)\n",
    "print(result_1)\n",
    "\n",
    "result_2 = graph.invoke({\"messages\": [HumanMessage(\"내 이름이 뭐야?\")]}, thread1)\n",
    "print(result_2)\n",
    "\n",
    "# Get state\n",
    "print(graph.get_state(thread1))\n"
   ]
  },
  {
   "cell_type": "code",
   "execution_count": 13,
   "id": "4bdf003e",
   "metadata": {},
   "outputs": [
    {
     "name": "stdout",
     "output_type": "stream",
     "text": [
      "{'messages': [HumanMessage(content='내 이름이 뭐야?', additional_kwargs={}, response_metadata={}, id='416dd873-c1ed-4cad-9639-6308c5aed051'), AIMessage(content='죄송합니다, 하지만 당신의 이름은 알 수 없습니다. 당신의 이름을 알려주시면, 그에 맞춰 대화할 수 있습니다!', additional_kwargs={'refusal': None}, response_metadata={'token_usage': {'completion_tokens': 31, 'prompt_tokens': 13, 'total_tokens': 44, 'completion_tokens_details': {'accepted_prediction_tokens': 0, 'audio_tokens': 0, 'reasoning_tokens': 0, 'rejected_prediction_tokens': 0}, 'prompt_tokens_details': {'audio_tokens': 0, 'cached_tokens': 0}}, 'model_name': 'gpt-4o-mini-2024-07-18', 'system_fingerprint': 'fp_34a54ae93c', 'id': 'chatcmpl-Bo2wYAZPajuJAAPcp36IKFSp8ImTA', 'service_tier': 'default', 'finish_reason': 'stop', 'logprobs': None}, id='run--aaf15eb8-5e21-44e7-9a76-dc02c68e62a2-0', usage_metadata={'input_tokens': 13, 'output_tokens': 31, 'total_tokens': 44, 'input_token_details': {'audio': 0, 'cache_read': 0}, 'output_token_details': {'audio': 0, 'reasoning': 0}})]}\n",
      "StateSnapshot(values={'messages': [HumanMessage(content='내 이름이 뭐야?', additional_kwargs={}, response_metadata={}, id='416dd873-c1ed-4cad-9639-6308c5aed051'), AIMessage(content='죄송합니다, 하지만 당신의 이름은 알 수 없습니다. 당신의 이름을 알려주시면, 그에 맞춰 대화할 수 있습니다!', additional_kwargs={'refusal': None}, response_metadata={'token_usage': {'completion_tokens': 31, 'prompt_tokens': 13, 'total_tokens': 44, 'completion_tokens_details': {'accepted_prediction_tokens': 0, 'audio_tokens': 0, 'reasoning_tokens': 0, 'rejected_prediction_tokens': 0}, 'prompt_tokens_details': {'audio_tokens': 0, 'cached_tokens': 0}}, 'model_name': 'gpt-4o-mini-2024-07-18', 'system_fingerprint': 'fp_34a54ae93c', 'id': 'chatcmpl-Bo2wYAZPajuJAAPcp36IKFSp8ImTA', 'service_tier': 'default', 'finish_reason': 'stop', 'logprobs': None}, id='run--aaf15eb8-5e21-44e7-9a76-dc02c68e62a2-0', usage_metadata={'input_tokens': 13, 'output_tokens': 31, 'total_tokens': 44, 'input_token_details': {'audio': 0, 'cache_read': 0}, 'output_token_details': {'audio': 0, 'reasoning': 0}})]}, next=(), config={'configurable': {'thread_id': '2', 'checkpoint_ns': '', 'checkpoint_id': '1f055814-52d1-6792-8001-7c752f017faa'}}, metadata={'source': 'loop', 'writes': {'chatbot': {'messages': [AIMessage(content='죄송합니다, 하지만 당신의 이름은 알 수 없습니다. 당신의 이름을 알려주시면, 그에 맞춰 대화할 수 있습니다!', additional_kwargs={'refusal': None}, response_metadata={'token_usage': {'completion_tokens': 31, 'prompt_tokens': 13, 'total_tokens': 44, 'completion_tokens_details': {'accepted_prediction_tokens': 0, 'audio_tokens': 0, 'reasoning_tokens': 0, 'rejected_prediction_tokens': 0}, 'prompt_tokens_details': {'audio_tokens': 0, 'cached_tokens': 0}}, 'model_name': 'gpt-4o-mini-2024-07-18', 'system_fingerprint': 'fp_34a54ae93c', 'id': 'chatcmpl-Bo2wYAZPajuJAAPcp36IKFSp8ImTA', 'service_tier': 'default', 'finish_reason': 'stop', 'logprobs': None}, id='run--aaf15eb8-5e21-44e7-9a76-dc02c68e62a2-0', usage_metadata={'input_tokens': 13, 'output_tokens': 31, 'total_tokens': 44, 'input_token_details': {'audio': 0, 'cache_read': 0}, 'output_token_details': {'audio': 0, 'reasoning': 0}})]}}, 'step': 1, 'parents': {}, 'thread_id': '2'}, created_at='2025-06-30T07:10:14.821057+00:00', parent_config={'configurable': {'thread_id': '2', 'checkpoint_ns': '', 'checkpoint_id': '1f055814-467e-6843-8000-996313f2c019'}}, tasks=(), interrupts=())\n"
     ]
    }
   ],
   "source": [
    "# Configure thread\n",
    "thread2 = {\"configurable\": {\"thread_id\": \"2\"}}\n",
    "\n",
    "result_3 = graph.invoke({\"messages\": [HumanMessage(\"내 이름이 뭐야?\")]}, thread2)\n",
    "print(result_3)\n",
    "\n",
    "# Get state\n",
    "print(graph.get_state(thread2))"
   ]
  },
  {
   "cell_type": "markdown",
   "id": "7866e6f3",
   "metadata": {},
   "source": [
    "### 채팅 이력 관리\n",
    "\n",
    "- 트리밍(Trimming)\n",
    "- 필터링(Filtering)\n",
    "- 병합(Merge)"
   ]
  },
  {
   "cell_type": "code",
   "execution_count": null,
   "id": "188321b3",
   "metadata": {},
   "outputs": [
    {
     "name": "stdout",
     "output_type": "stream",
     "text": [
      "[SystemMessage(content='당신은 훌륭한 조력자입니다.', additional_kwargs={}, response_metadata={}), HumanMessage(content='고마워', additional_kwargs={}, response_metadata={}), AIMessage(content='별 말씀을요!', additional_kwargs={}, response_metadata={}), HumanMessage(content='괜찮았어?', additional_kwargs={}, response_metadata={}), AIMessage(content='그럼!', additional_kwargs={}, response_metadata={})]\n"
     ]
    }
   ],
   "source": [
    "from langchain_core.messages import (\n",
    "    SystemMessage,\n",
    "    HumanMessage,\n",
    "    AIMessage,\n",
    "    trim_messages,\n",
    ")\n",
    "from langchain_openai import ChatOpenAI\n",
    "\n",
    "# Define sample messages\n",
    "messages = [\n",
    "    SystemMessage(content=\"당신은 훌륭한 조력자입니다.\"),\n",
    "    HumanMessage(content=\"안녕 나는 헨리야!\"),\n",
    "    AIMessage(content=\"안녕!\"),\n",
    "    HumanMessage(content=\"나는 컴퓨터 프로그래밍을 좋아해\"),\n",
    "    AIMessage(content=\"훌륭해!\"),\n",
    "    HumanMessage(content=\"whats 2 + 2\"),\n",
    "    AIMessage(content=\"4\"),\n",
    "    HumanMessage(content=\"고마워\"),\n",
    "    AIMessage(content=\"별 말씀을요!\"),\n",
    "    HumanMessage(content=\"괜찮았어?\"),\n",
    "    AIMessage(content=\"그럼!\"),\n",
    "]\n",
    "\n",
    "# Create trimmer\n",
    "trimmer = trim_messages(\n",
    "    max_tokens=65,                                  # \n",
    "    strategy=\"last\",                                # 트리밍 전략, \"last\"는 최근 메시지부터 보존하고 오래된 메시지부터 제거\n",
    "    token_counter=ChatOpenAI(model=\"gpt-4o-mini\"),  # LLM 또는 채팅 모델로, 해당 모델에 적합한 토크나이저를 사용하여 토큰을 계산\n",
    "    include_system=True,                            # system 역할의 메시지를 포함할지 여부\n",
    "    allow_partial=False,                            # 마지막 메시지를 자를 수 있는지 여부, False이면 온전한 단위로만 유지\n",
    "    start_on=\"human\",                               # 토큰 초과 시 어떤 역할 메시지부터 트리밍을 시작할지 지정      \n",
    ")\n",
    "\n",
    "# Apply trimming\n",
    "trimmed = trimmer.invoke(messages)\n",
    "print(trimmed)\n"
   ]
  },
  {
   "cell_type": "markdown",
   "id": "eaaab249",
   "metadata": {},
   "source": [
    "##### Filtering Messages"
   ]
  },
  {
   "cell_type": "markdown",
   "id": "8daa6508",
   "metadata": {},
   "source": [
    "from langchain_core.messages import (\n",
    "    AIMessage,\n",
    "    HumanMessage,\n",
    "    SystemMessage,\n",
    "    filter_messages,\n",
    ")\n",
    "\n",
    "# Sample messages\n",
    "messages = [\n",
    "    SystemMessage(content=\"you are a good assistant\", id=\"1\"),\n",
    "    HumanMessage(content=\"example input\", id=\"2\", name=\"example_user\"),\n",
    "    AIMessage(content=\"example output\", id=\"3\", name=\"example_assistant\"),\n",
    "    HumanMessage(content=\"real input\", id=\"4\", name=\"bob\"),\n",
    "    AIMessage(content=\"real output\", id=\"5\", name=\"alice\"),\n",
    "]\n",
    "\n",
    "# Filter for human messages\n",
    "human_messages = filter_messages(messages, include_types=\"human\")\n",
    "print(\"Human messages:\", human_messages)\n",
    "\n",
    "# Filter to exclude certain names\n",
    "excluded_names = filter_messages(\n",
    "    messages, exclude_names=[\"example_user\", \"example_assistant\"]\n",
    ")\n",
    "print(\"\\nExcluding example names:\", excluded_names)\n",
    "\n",
    "# Filter by types and IDs\n",
    "filtered_messages = filter_messages(\n",
    "    messages, include_types=[\"human\", \"ai\"], exclude_ids=[\"3\"]\n",
    ")\n",
    "print(\"\\nFiltered by types and IDs:\", filtered_messages)\n"
   ]
  }
 ],
 "metadata": {
  "kernelspec": {
   "display_name": "base",
   "language": "python",
   "name": "python3"
  },
  "language_info": {
   "codemirror_mode": {
    "name": "ipython",
    "version": 3
   },
   "file_extension": ".py",
   "mimetype": "text/x-python",
   "name": "python",
   "nbconvert_exporter": "python",
   "pygments_lexer": "ipython3",
   "version": "3.12.7"
  }
 },
 "nbformat": 4,
 "nbformat_minor": 5
}
