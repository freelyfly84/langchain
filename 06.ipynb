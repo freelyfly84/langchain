{
 "cells": [
  {
   "cell_type": "markdown",
   "id": "b185d612",
   "metadata": {},
   "source": [
    "# Multi Agent"
   ]
  },
  {
   "cell_type": "code",
   "execution_count": 3,
   "id": "09d01850",
   "metadata": {},
   "outputs": [
    {
     "name": "stdout",
     "output_type": "stream",
     "text": [
      "Defaulting to user installation because normal site-packages is not writeable\n",
      "Collecting duckduckgo_search\n",
      "  Downloading duckduckgo_search-8.0.5-py3-none-any.whl.metadata (16 kB)\n",
      "Requirement already satisfied: click>=8.1.8 in c:\\users\\henry\\appdata\\roaming\\python\\python312\\site-packages (from duckduckgo_search) (8.2.1)\n",
      "Collecting primp>=0.15.0 (from duckduckgo_search)\n",
      "  Downloading primp-0.15.0-cp38-abi3-win_amd64.whl.metadata (13 kB)\n",
      "Collecting lxml>=5.3.0 (from duckduckgo_search)\n",
      "  Downloading lxml-6.0.0-cp312-cp312-win_amd64.whl.metadata (6.8 kB)\n",
      "Requirement already satisfied: colorama in c:\\users\\henry\\appdata\\roaming\\python\\python312\\site-packages (from click>=8.1.8->duckduckgo_search) (0.4.6)\n",
      "Downloading duckduckgo_search-8.0.5-py3-none-any.whl (18 kB)\n",
      "Downloading lxml-6.0.0-cp312-cp312-win_amd64.whl (4.0 MB)\n",
      "   ---------------------------------------- 0.0/4.0 MB ? eta -:--:--\n",
      "   -- ------------------------------------- 0.2/4.0 MB 5.0 MB/s eta 0:00:01\n",
      "   ---- ----------------------------------- 0.5/4.0 MB 6.3 MB/s eta 0:00:01\n",
      "   -------- ------------------------------- 0.8/4.0 MB 5.9 MB/s eta 0:00:01\n",
      "   ----------- ---------------------------- 1.2/4.0 MB 6.3 MB/s eta 0:00:01\n",
      "   ---------------- ----------------------- 1.6/4.0 MB 6.9 MB/s eta 0:00:01\n",
      "   --------------------- ------------------ 2.1/4.0 MB 8.0 MB/s eta 0:00:01\n",
      "   ------------------------- -------------- 2.5/4.0 MB 8.1 MB/s eta 0:00:01\n",
      "   ------------------------------ --------- 3.1/4.0 MB 8.6 MB/s eta 0:00:01\n",
      "   ------------------------------------ --- 3.6/4.0 MB 9.0 MB/s eta 0:00:01\n",
      "   ---------------------------------------- 4.0/4.0 MB 8.8 MB/s eta 0:00:00\n",
      "Downloading primp-0.15.0-cp38-abi3-win_amd64.whl (3.1 MB)\n",
      "   ---------------------------------------- 0.0/3.1 MB ? eta -:--:--\n",
      "   ----- ---------------------------------- 0.5/3.1 MB 14.2 MB/s eta 0:00:01\n",
      "   ------------ --------------------------- 1.0/3.1 MB 12.6 MB/s eta 0:00:01\n",
      "   ------------------- -------------------- 1.5/3.1 MB 13.8 MB/s eta 0:00:01\n",
      "   --------------------------- ------------ 2.1/3.1 MB 12.4 MB/s eta 0:00:01\n",
      "   ---------------------------- ----------- 2.2/3.1 MB 12.9 MB/s eta 0:00:01\n",
      "   ---------------------------------- ----- 2.7/3.1 MB 10.2 MB/s eta 0:00:01\n",
      "   ---------------------------------------  3.1/3.1 MB 10.6 MB/s eta 0:00:01\n",
      "   ---------------------------------------- 3.1/3.1 MB 10.1 MB/s eta 0:00:00\n",
      "Installing collected packages: primp, lxml, duckduckgo_search\n",
      "Successfully installed duckduckgo_search-8.0.5 lxml-6.0.0 primp-0.15.0\n",
      "Note: you may need to restart the kernel to use updated packages.\n"
     ]
    },
    {
     "name": "stderr",
     "output_type": "stream",
     "text": [
      "\n",
      "[notice] A new release of pip is available: 24.0 -> 25.1.1\n",
      "[notice] To update, run: python.exe -m pip install --upgrade pip\n"
     ]
    }
   ],
   "source": [
    "%pip install duckduckgo_search"
   ]
  },
  {
   "cell_type": "code",
   "execution_count": 1,
   "id": "05b57fa4",
   "metadata": {},
   "outputs": [],
   "source": [
    "import ast\n",
    "from typing import Annotated, TypedDict\n",
    "\n",
    "from langchain_community.tools import DuckDuckGoSearchRun\n",
    "from langchain_core.messages import HumanMessage\n",
    "from langchain_core.tools import tool\n",
    "from langchain_openai import ChatOpenAI\n",
    "from langgraph.graph import START, StateGraph\n",
    "from langgraph.graph.message import add_messages\n",
    "from langgraph.prebuilt import ToolNode, tools_condition"
   ]
  },
  {
   "cell_type": "code",
   "execution_count": 4,
   "id": "de843eaf",
   "metadata": {},
   "outputs": [],
   "source": [
    "@tool\n",
    "def calculator(query: str) -> str:\n",
    "    \"\"\"A simple calculator tool. Input should be a mathematical expression.\"\"\"\n",
    "    return ast.literal_eval(query)\n",
    "\n",
    "\n",
    "search = DuckDuckGoSearchRun()\n",
    "tools = [search, calculator]\n",
    "model = ChatOpenAI(temperature=0.1).bind_tools(tools)\n",
    "\n",
    "\n",
    "class State(TypedDict):\n",
    "    messages: Annotated[list, add_messages]\n",
    "\n",
    "\n",
    "def model_node(state: State) -> State:\n",
    "    res = model.invoke(state[\"messages\"])\n",
    "    return {\"messages\": res}\n",
    "\n",
    "\n",
    "builder = StateGraph(State)\n",
    "builder.add_node(\"model\", model_node)\n",
    "builder.add_node(\"tools\", ToolNode(tools))\n",
    "builder.add_edge(START, \"model\")\n",
    "builder.add_conditional_edges(\"model\", tools_condition)\n",
    "builder.add_edge(\"tools\", \"model\")\n",
    "\n",
    "graph = builder.compile()"
   ]
  },
  {
   "cell_type": "code",
   "execution_count": 5,
   "id": "47374ad5",
   "metadata": {},
   "outputs": [
    {
     "name": "stdout",
     "output_type": "stream",
     "text": [
      "{'model': {'messages': AIMessage(content='', additional_kwargs={'tool_calls': [{'id': 'call_ZYW8t2UQH3LzTwv5A5cMPpvs', 'function': {'arguments': '{\"query\":\"30th president of the United States age at death\"}', 'name': 'duckduckgo_search'}, 'type': 'function'}], 'refusal': None}, response_metadata={'token_usage': {'completion_tokens': 26, 'prompt_tokens': 118, 'total_tokens': 144, 'completion_tokens_details': {'accepted_prediction_tokens': 0, 'audio_tokens': 0, 'reasoning_tokens': 0, 'rejected_prediction_tokens': 0}, 'prompt_tokens_details': {'audio_tokens': 0, 'cached_tokens': 0}}, 'model_name': 'gpt-3.5-turbo-0125', 'system_fingerprint': None, 'id': 'chatcmpl-Bp6WB2PaIfFCmeohZwSy8Q8bmUvAh', 'service_tier': 'default', 'finish_reason': 'tool_calls', 'logprobs': None}, id='run--e998d96b-1fa5-4a52-a307-50703fbb0a92-0', tool_calls=[{'name': 'duckduckgo_search', 'args': {'query': '30th president of the United States age at death'}, 'id': 'call_ZYW8t2UQH3LzTwv5A5cMPpvs', 'type': 'tool_call'}], usage_metadata={'input_tokens': 118, 'output_tokens': 26, 'total_tokens': 144, 'input_token_details': {'audio': 0, 'cache_read': 0}, 'output_token_details': {'audio': 0, 'reasoning': 0}})}}\n",
      "{'tools': {'messages': [ToolMessage(content=\"Calvin Coolidge (born John Calvin Coolidge Jr.; [1] / ˈkuːlɪdʒ / KOOL-ij; July 4, 1872 - January 5, 1933) was the 30th president of the United States, serving from 1923 to 1929. A Republican lawyer from Massachusetts, he previously served as the 29th vice president from 1921 to 1923 under President Warren G. Harding, and as the 48th governor of Massachusetts from 1919 to 1921. Coolidge ... Calvin Coolidge was the 30th president of the United States (1923-29). Coolidge acceded to the presidency after the death in office of Warren G. Harding, just as the Harding scandals were coming to light. He restored integrity to the executive branch while continuing Harding's conservative pro-business policies. Calvin Coolidge, the 30th President of the United States, had a modest net worth throughout his life, particularly in comparison to many of his contemporaries in politics and business. Born into a family of farmers in Vermont, his upbringing instilled a sense of frugality and self-sufficiency that characterized his financial habits. Since 1789, the United States has had 45 different men serve as president, of which five are still alive today. The first table below charts the age of each president of the United States at the time of their presidential inauguration (first inauguration if elected to multiple and consecutive terms), upon leaving office, and at the time of death. Where the president is still living, their lifespan and post-presidency timespan are calculated through May 17, 2025.\", name='duckduckgo_search', id='d8c5be50-ea68-40e4-8024-24ca38503894', tool_call_id='call_ZYW8t2UQH3LzTwv5A5cMPpvs')]}}\n",
      "{'model': {'messages': AIMessage(content='Calvin Coolidge, the 30th president of the United States, was born on July 4, 1872, and died on January 5, 1933. To calculate his age at the time of his death, we can subtract his birth year from his death year. \\n\\nAge at death = Death year - Birth year\\nAge at death = 1933 - 1872\\nAge at death = 61 years\\n\\nCalvin Coolidge was 61 years old when he died.', additional_kwargs={'refusal': None}, response_metadata={'token_usage': {'completion_tokens': 104, 'prompt_tokens': 502, 'total_tokens': 606, 'completion_tokens_details': {'accepted_prediction_tokens': 0, 'audio_tokens': 0, 'reasoning_tokens': 0, 'rejected_prediction_tokens': 0}, 'prompt_tokens_details': {'audio_tokens': 0, 'cached_tokens': 0}}, 'model_name': 'gpt-3.5-turbo-0125', 'system_fingerprint': None, 'id': 'chatcmpl-Bp6WD7lfsFTmsEEuALwgGWPbXO63q', 'service_tier': 'default', 'finish_reason': 'stop', 'logprobs': None}, id='run--ca7a82e3-a8d7-4e08-83fc-52b8b506d1fc-0', usage_metadata={'input_tokens': 502, 'output_tokens': 104, 'total_tokens': 606, 'input_token_details': {'audio': 0, 'cache_read': 0}, 'output_token_details': {'audio': 0, 'reasoning': 0}})}}\n"
     ]
    }
   ],
   "source": [
    "input = {\n",
    "    \"messages\": [\n",
    "        HumanMessage(\n",
    "            \"How old was the 30th president of the United States when he died?\"\n",
    "        )\n",
    "    ]\n",
    "}\n",
    "\n",
    "for c in graph.stream(input):\n",
    "    print(c)"
   ]
  },
  {
   "cell_type": "markdown",
   "id": "be1f68a7",
   "metadata": {},
   "source": [
    "\n",
    "\n",
    "\n",
    "\n",
    "\n",
    "# Example usage\n",
    "\n",
    "\n"
   ]
  },
  {
   "cell_type": "code",
   "execution_count": 6,
   "id": "3b52bf94",
   "metadata": {},
   "outputs": [],
   "source": [
    "import ast\n",
    "from typing import Annotated, TypedDict\n",
    "\n",
    "from langchain_community.tools import DuckDuckGoSearchRun\n",
    "from langchain_core.documents import Document\n",
    "from langchain_core.messages import HumanMessage\n",
    "from langchain_core.tools import tool\n",
    "from langchain_core.vectorstores.in_memory import InMemoryVectorStore\n",
    "from langchain_openai import ChatOpenAI, OpenAIEmbeddings\n",
    "\n",
    "from langgraph.graph import START, StateGraph\n",
    "from langgraph.graph.message import add_messages\n",
    "from langgraph.prebuilt import ToolNode, tools_condition"
   ]
  },
  {
   "cell_type": "code",
   "execution_count": 7,
   "id": "6cf6de9c",
   "metadata": {},
   "outputs": [],
   "source": [
    "@tool\n",
    "def calculator(query: str) -> str:\n",
    "    \"\"\"A simple calculator tool. Input should be a mathematical expression.\"\"\"\n",
    "    return ast.literal_eval(query)\n",
    "\n",
    "\n",
    "search = DuckDuckGoSearchRun()\n",
    "tools = [search, calculator]\n",
    "\n",
    "embeddings = OpenAIEmbeddings()\n",
    "model = ChatOpenAI(temperature=0.1)\n",
    "\n",
    "tools_retriever = InMemoryVectorStore.from_documents(\n",
    "    [Document(tool.description, metadata={\"name\": tool.name}) for tool in tools],\n",
    "    embeddings,\n",
    ").as_retriever()"
   ]
  },
  {
   "cell_type": "code",
   "execution_count": 8,
   "id": "2ec1ebaa",
   "metadata": {},
   "outputs": [],
   "source": [
    "class State(TypedDict):\n",
    "    messages: Annotated[list, add_messages]\n",
    "    selected_tools: list[str]\n",
    "\n",
    "\n",
    "def model_node(state: State) -> State:\n",
    "    selected_tools = [tool for tool in tools if tool.name in state[\"selected_tools\"]]\n",
    "    res = model.bind_tools(selected_tools).invoke(state[\"messages\"])\n",
    "    return {\"messages\": res}\n",
    "\n",
    "\n",
    "def select_tools(state: State) -> State:\n",
    "    query = state[\"messages\"][-1].content\n",
    "    tool_docs = tools_retriever.invoke(query)\n",
    "    return {\"selected_tools\": [doc.metadata[\"name\"] for doc in tool_docs]}"
   ]
  },
  {
   "cell_type": "code",
   "execution_count": 9,
   "id": "af66ec9a",
   "metadata": {},
   "outputs": [],
   "source": [
    "builder = StateGraph(State)\n",
    "builder.add_node(\"select_tools\", select_tools)\n",
    "builder.add_node(\"model\", model_node)\n",
    "builder.add_node(\"tools\", ToolNode(tools))\n",
    "builder.add_edge(START, \"select_tools\")\n",
    "builder.add_edge(\"select_tools\", \"model\")\n",
    "builder.add_conditional_edges(\"model\", tools_condition)\n",
    "builder.add_edge(\"tools\", \"model\")\n",
    "\n",
    "graph = builder.compile()"
   ]
  },
  {
   "cell_type": "code",
   "execution_count": 10,
   "id": "e7c25d1e",
   "metadata": {},
   "outputs": [
    {
     "name": "stdout",
     "output_type": "stream",
     "text": [
      "{'select_tools': {'selected_tools': ['duckduckgo_search', 'calculator']}}\n",
      "{'model': {'messages': AIMessage(content='', additional_kwargs={'tool_calls': [{'id': 'call_kPO2CkWGCS5PIxvJd5wUxkrH', 'function': {'arguments': '{\"query\":\"30th president of the United States age at death\"}', 'name': 'duckduckgo_search'}, 'type': 'function'}], 'refusal': None}, response_metadata={'token_usage': {'completion_tokens': 26, 'prompt_tokens': 118, 'total_tokens': 144, 'completion_tokens_details': {'accepted_prediction_tokens': 0, 'audio_tokens': 0, 'reasoning_tokens': 0, 'rejected_prediction_tokens': 0}, 'prompt_tokens_details': {'audio_tokens': 0, 'cached_tokens': 0}}, 'model_name': 'gpt-3.5-turbo-0125', 'system_fingerprint': None, 'id': 'chatcmpl-Bp6XYH6HkIX8NYPbVTZ5PSu6XLL5L', 'service_tier': 'default', 'finish_reason': 'tool_calls', 'logprobs': None}, id='run--aa345871-9e2f-4926-a2f6-70d86f68e8a6-0', tool_calls=[{'name': 'duckduckgo_search', 'args': {'query': '30th president of the United States age at death'}, 'id': 'call_kPO2CkWGCS5PIxvJd5wUxkrH', 'type': 'tool_call'}], usage_metadata={'input_tokens': 118, 'output_tokens': 26, 'total_tokens': 144, 'input_token_details': {'audio': 0, 'cache_read': 0}, 'output_token_details': {'audio': 0, 'reasoning': 0}})}}\n",
      "{'tools': {'messages': [ToolMessage(content=\"Calvin Coolidge (born John Calvin Coolidge Jr.; [1] / ˈkuːlɪdʒ / KOOL-ij; July 4, 1872 - January 5, 1933) was the 30th president of the United States, serving from 1923 to 1929. A Republican lawyer from Massachusetts, he previously served as the 29th vice president from 1921 to 1923 under President Warren G. Harding, and as the 48th governor of Massachusetts from 1919 to 1921. Coolidge ... Calvin Coolidge was the 30th president of the United States (1923-29). Coolidge acceded to the presidency after the death in office of Warren G. Harding, just as the Harding scandals were coming to light. He restored integrity to the executive branch while continuing Harding's conservative pro-business policies. Calvin Coolidge, the 30th President of the United States, had a modest net worth throughout his life, particularly in comparison to many of his contemporaries in politics and business. Born into a family of farmers in Vermont, his upbringing instilled a sense of frugality and self-sufficiency that characterized his financial habits. Since 1789, the United States has had 45 different men serve as president, of which five are still alive today. The first table below charts the age of each president of the United States at the time of their presidential inauguration (first inauguration if elected to multiple and consecutive terms), upon leaving office, and at the time of death. Where the president is still living, their lifespan and post-presidency timespan are calculated through May 17, 2025.\", name='duckduckgo_search', id='503c0345-eb87-466e-9bc0-e03eb0c7961f', tool_call_id='call_kPO2CkWGCS5PIxvJd5wUxkrH')]}}\n",
      "{'model': {'messages': AIMessage(content='Calvin Coolidge, the 30th president of the United States, was born on July 4, 1872, and died on January 5, 1933. To calculate his age at the time of his death, we can subtract his birth year from his death year. \\n\\nAge at death = Death year - Birth year\\nAge at death = 1933 - 1872\\nAge at death = 61 years\\n\\nCalvin Coolidge was 61 years old when he died.', additional_kwargs={'refusal': None}, response_metadata={'token_usage': {'completion_tokens': 104, 'prompt_tokens': 502, 'total_tokens': 606, 'completion_tokens_details': {'accepted_prediction_tokens': 0, 'audio_tokens': 0, 'reasoning_tokens': 0, 'rejected_prediction_tokens': 0}, 'prompt_tokens_details': {'audio_tokens': 0, 'cached_tokens': 0}}, 'model_name': 'gpt-3.5-turbo-0125', 'system_fingerprint': None, 'id': 'chatcmpl-Bp6XaVSc6DX6FyiI43RDa60CGAf4K', 'service_tier': 'default', 'finish_reason': 'stop', 'logprobs': None}, id='run--139b5ca2-3090-4bdc-bd4c-6cb09aa29dc6-0', usage_metadata={'input_tokens': 502, 'output_tokens': 104, 'total_tokens': 606, 'input_token_details': {'audio': 0, 'cache_read': 0}, 'output_token_details': {'audio': 0, 'reasoning': 0}})}}\n"
     ]
    }
   ],
   "source": [
    "input = {\n",
    "    \"messages\": [\n",
    "        HumanMessage(\n",
    "            \"How old was the 30th president of the United States when he died?\"\n",
    "        )\n",
    "    ]\n",
    "}\n",
    "\n",
    "for c in graph.stream(input):\n",
    "    print(c)\n"
   ]
  },
  {
   "cell_type": "code",
   "execution_count": null,
   "id": "97276b6d",
   "metadata": {},
   "outputs": [],
   "source": []
  }
 ],
 "metadata": {
  "kernelspec": {
   "display_name": "Python 3",
   "language": "python",
   "name": "python3"
  },
  "language_info": {
   "codemirror_mode": {
    "name": "ipython",
    "version": 3
   },
   "file_extension": ".py",
   "mimetype": "text/x-python",
   "name": "python",
   "nbconvert_exporter": "python",
   "pygments_lexer": "ipython3",
   "version": "3.12.3"
  }
 },
 "nbformat": 4,
 "nbformat_minor": 5
}
