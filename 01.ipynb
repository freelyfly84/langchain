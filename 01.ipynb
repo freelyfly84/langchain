{
 "cells": [
  {
   "cell_type": "code",
   "execution_count": 1,
   "id": "34bd3f3c",
   "metadata": {},
   "outputs": [
    {
     "data": {
      "text/plain": [
       "True"
      ]
     },
     "execution_count": 1,
     "metadata": {},
     "output_type": "execute_result"
    }
   ],
   "source": [
    "from dotenv import load_dotenv\n",
    "\n",
    "load_dotenv()"
   ]
  },
  {
   "cell_type": "code",
   "execution_count": null,
   "id": "d1650707",
   "metadata": {},
   "outputs": [
    {
     "name": "stdout",
     "output_type": "stream",
     "text": [
      "The sky is a vast expanse that can evoke various emotions and experiences. It changes colors throughout the day—from the soft pastels of dawn to the deep blues of midday, and the fiery hues of sunset. It can be clear and bright, filled with fluffy clouds, or stormy and dramatic. The sky also holds the sun, moon, stars, and other celestial bodies, making it a source of wonder and inspiration for many. What specific aspect of the sky are you interested in?\n"
     ]
    }
   ],
   "source": [
    "from langchain_openai.chat_models import ChatOpenAI\n",
    "\n",
    "model = ChatOpenAI(model=\"gpt-4o-mini\")\n",
    "\n",
    "response = model.invoke(\"하늘 색깔은?\")\n",
    "print(response.content)"
   ]
  },
  {
   "cell_type": "markdown",
   "id": "f4a8405c",
   "metadata": {},
   "source": [
    "##### chat application"
   ]
  },
  {
   "cell_type": "code",
   "execution_count": 3,
   "id": "c74a57b1",
   "metadata": {},
   "outputs": [
    {
     "name": "stdout",
     "output_type": "stream",
     "text": [
      "서울의 수도는 서울특별시입니다. 서울은 대한민국의 수도이자 가장 큰 도시로, 정치, 경제, 문화 중심지입니다.\n"
     ]
    }
   ],
   "source": [
    "from langchain_openai.chat_models import ChatOpenAI\n",
    "from langchain_core.messages import HumanMessage\n",
    "\n",
    "model = ChatOpenAI(model=\"gpt-4o-mini\")\n",
    "prompt = [HumanMessage(\"서울의 수도는?\")]\n",
    "\n",
    "response = model.invoke(prompt)\n",
    "print(response.content)"
   ]
  },
  {
   "cell_type": "markdown",
   "id": "bfbceb5f",
   "metadata": {},
   "source": [
    "##### system message"
   ]
  },
  {
   "cell_type": "code",
   "execution_count": null,
   "id": "394d847f",
   "metadata": {},
   "outputs": [
    {
     "name": "stdout",
     "output_type": "stream",
     "text": [
      "서울의 수도는 서울입니다!!!\n"
     ]
    }
   ],
   "source": [
    "from langchain_core.messages import HumanMessage, SystemMessage\n",
    "from langchain_openai.chat_models import ChatOpenAI\n",
    "\n",
    "model = ChatOpenAI(model=\"gpt-4o-mini\")\n",
    "system_msg = SystemMessage(\n",
    "    \"당신은 두 개의 느낌표로 질문에 답하는 친절한 조수입니다.\"\n",
    ")\n",
    "human_msg = HumanMessage(\"서울의 수도는?\")\n",
    "\n",
    "response = model.invoke([system_msg, human_msg])\n",
    "print(response.content)\n"
   ]
  },
  {
   "cell_type": "markdown",
   "id": "bc181438",
   "metadata": {},
   "source": [
    "##### Prompt Template"
   ]
  },
  {
   "cell_type": "code",
   "execution_count": 5,
   "id": "5661664f",
   "metadata": {},
   "outputs": [
    {
     "name": "stdout",
     "output_type": "stream",
     "text": [
      "text='아래 컨텍스트를 바탕으로 질문에 답하세요. 제공된 정보를 사용하여 질문에 답할 수 없는 경우, \"모르겠습니다\"라고 답하세요.\".\\n    Context: LangChain과 Microsoft Autogen은 복잡한 멀티에이전트 워크플로우를 구축할 수 있는 강력한 오픈소스 Agentic AI 프레임워크를 제공합니다!!!\\n                    OpenAI와 Dust.tt는 사용자가 직접 구성 가능한 커스텀 에이전트 플랫폼을 통해 직관적이고 유연한 Agent 개발을 지원합니다!!!\\n                    CrewAI, LlamaIndex, Reka 등은 각기 다른 도메인에서 협업형, 검색 강화형, 실행 중심의 Agentic 시스템을 전문적으로 제공합니다!!!\\n    Question: Agentic AI의 플랫폼을 제공하는 업체는?\\n    Answer: '\n"
     ]
    }
   ],
   "source": [
    "from langchain_core.prompts import PromptTemplate\n",
    "\n",
    "template = PromptTemplate.from_template(\"\"\"아래 컨텍스트를 바탕으로 질문에 답하세요. 제공된 정보를 사용하여 질문에 답할 수 없는 경우, \"모르겠습니다\"라고 답하세요.\".\n",
    "    Context: {context}\n",
    "    Question: {question}\n",
    "    Answer: \"\"\")\n",
    "\n",
    "response = template.invoke(\n",
    "    {\n",
    "        \"context\": \"\"\"LangChain과 Microsoft Autogen은 복잡한 멀티에이전트 워크플로우를 구축할 수 있는 강력한 오픈소스 Agentic AI 프레임워크를 제공합니다!!!\n",
    "                    OpenAI와 Dust.tt는 사용자가 직접 구성 가능한 커스텀 에이전트 플랫폼을 통해 직관적이고 유연한 Agent 개발을 지원합니다!!!\n",
    "                    CrewAI, LlamaIndex, Reka 등은 각기 다른 도메인에서 협업형, 검색 강화형, 실행 중심의 Agentic 시스템을 전문적으로 제공합니다!!!\"\"\",\n",
    "        \"question\": \"Agentic AI의 플랫폼을 제공하는 업체는?\",\n",
    "    }\n",
    ")\n",
    "\n",
    "print(response)\n"
   ]
  },
  {
   "cell_type": "code",
   "execution_count": 6,
   "id": "9be16892",
   "metadata": {},
   "outputs": [
    {
     "name": "stdout",
     "output_type": "stream",
     "text": [
      "content='LangChain, Microsoft Autogen, OpenAI, Dust.tt, CrewAI, LlamaIndex, Reka 등입니다.' additional_kwargs={'refusal': None} response_metadata={'token_usage': {'completion_tokens': 25, 'prompt_tokens': 183, 'total_tokens': 208, 'completion_tokens_details': {'accepted_prediction_tokens': 0, 'audio_tokens': 0, 'reasoning_tokens': 0, 'rejected_prediction_tokens': 0}, 'prompt_tokens_details': {'audio_tokens': 0, 'cached_tokens': 0}}, 'model_name': 'gpt-4o-mini-2024-07-18', 'system_fingerprint': 'fp_34a54ae93c', 'id': 'chatcmpl-BnmVEqsul5ij7RYrsYiY9jhjOYrzV', 'service_tier': 'default', 'finish_reason': 'stop', 'logprobs': None} id='run--f592a1b7-7174-4d2b-9e25-217eaa17481f-0' usage_metadata={'input_tokens': 183, 'output_tokens': 25, 'total_tokens': 208, 'input_token_details': {'audio': 0, 'cache_read': 0}, 'output_token_details': {'audio': 0, 'reasoning': 0}}\n"
     ]
    }
   ],
   "source": [
    "from langchain_openai.chat_models import ChatOpenAI\n",
    "from langchain_core.prompts import PromptTemplate\n",
    "\n",
    "# both `template` and `model` can be reused many times\n",
    "\n",
    "template = PromptTemplate.from_template(\"\"\"아래 컨텍스트를 바탕으로 질문에 답하세요. 제공된 정보를 사용하여 질문에 답할 수 없는 경우, \"모르겠습니다\"라고 답하세요.\".\n",
    "    Context: {context}\n",
    "    Question: {question}\n",
    "    Answer: \"\"\")\n",
    "\n",
    "model = ChatOpenAI(model=\"gpt-4o-mini\")\n",
    "\n",
    "prompt = template.invoke(\n",
    "    {\n",
    "        \"context\": \"\"\"LangChain과 Microsoft Autogen은 복잡한 멀티에이전트 워크플로우를 구축할 수 있는 강력한 오픈소스 Agentic AI 프레임워크를 제공합니다!!!\n",
    "                    OpenAI와 Dust.tt는 사용자가 직접 구성 가능한 커스텀 에이전트 플랫폼을 통해 직관적이고 유연한 Agent 개발을 지원합니다!!!\n",
    "                    CrewAI, LlamaIndex, Reka 등은 각기 다른 도메인에서 협업형, 검색 강화형, 실행 중심의 Agentic 시스템을 전문적으로 제공합니다!!!\"\"\",\n",
    "        \"question\": \"Agentic AI의 플랫폼을 제공하는 업체는?\",\n",
    "    }\n",
    ")\n",
    "\n",
    "response = model.invoke(prompt)\n",
    "print(response)\n"
   ]
  },
  {
   "cell_type": "markdown",
   "id": "3a7d9edd",
   "metadata": {},
   "source": [
    "##### Chat prompt"
   ]
  },
  {
   "cell_type": "code",
   "execution_count": 7,
   "id": "7273d925",
   "metadata": {},
   "outputs": [
    {
     "name": "stdout",
     "output_type": "stream",
     "text": [
      "messages=[SystemMessage(content='아래 컨텍스트를 바탕으로 질문에 답하세요. 제공된 정보를 사용하여 질문에 답할 수 없는 경우, \"모르겠습니다\"라고 답하세요.', additional_kwargs={}, response_metadata={}), HumanMessage(content='Context: LangChain과 Microsoft Autogen은 복잡한 멀티에이전트 워크플로우를 구축할 수 있는 강력한 오픈소스 Agentic AI 프레임워크를 제공합니다!!!\\n                    OpenAI와 Dust.tt는 사용자가 직접 구성 가능한 커스텀 에이전트 플랫폼을 통해 직관적이고 유연한 Agent 개발을 지원합니다!!!\\n                    CrewAI, LlamaIndex, Reka 등은 각기 다른 도메인에서 협업형, 검색 강화형, 실행 중심의 Agentic 시스템을 전문적으로 제공합니다!!!', additional_kwargs={}, response_metadata={}), HumanMessage(content='Question: Agentic AI의 플랫폼을 제공하는 업체는?', additional_kwargs={}, response_metadata={})]\n"
     ]
    }
   ],
   "source": [
    "from langchain_core.prompts import ChatPromptTemplate\n",
    "\n",
    "template = ChatPromptTemplate.from_messages(\n",
    "    [\n",
    "        (\n",
    "            \"system\",\n",
    "            '아래 컨텍스트를 바탕으로 질문에 답하세요. 제공된 정보를 사용하여 질문에 답할 수 없는 경우, \"모르겠습니다\"라고 답하세요.',\n",
    "        ),\n",
    "        (\"human\", \"Context: {context}\"),\n",
    "        (\"human\", \"Question: {question}\"),\n",
    "    ]\n",
    ")\n",
    "\n",
    "response = template.invoke(\n",
    "    {\n",
    "        \"context\": \"\"\"LangChain과 Microsoft Autogen은 복잡한 멀티에이전트 워크플로우를 구축할 수 있는 강력한 오픈소스 Agentic AI 프레임워크를 제공합니다!!!\n",
    "                    OpenAI와 Dust.tt는 사용자가 직접 구성 가능한 커스텀 에이전트 플랫폼을 통해 직관적이고 유연한 Agent 개발을 지원합니다!!!\n",
    "                    CrewAI, LlamaIndex, Reka 등은 각기 다른 도메인에서 협업형, 검색 강화형, 실행 중심의 Agentic 시스템을 전문적으로 제공합니다!!!\"\"\",\n",
    "        \"question\": \"Agentic AI의 플랫폼을 제공하는 업체는?\",\n",
    "    }\n",
    ")\n",
    "\n",
    "print(response)\n"
   ]
  },
  {
   "cell_type": "code",
   "execution_count": 8,
   "id": "f4a6e012",
   "metadata": {},
   "outputs": [
    {
     "name": "stdout",
     "output_type": "stream",
     "text": [
      "content='Agentic AI의 플랫폼을 제공하는 업체로는 LangChain, Microsoft Autogen, OpenAI, Dust.tt, CrewAI, LlamaIndex, Reka 등이 있습니다.' additional_kwargs={'refusal': None} response_metadata={'token_usage': {'completion_tokens': 36, 'prompt_tokens': 184, 'total_tokens': 220, 'completion_tokens_details': {'accepted_prediction_tokens': 0, 'audio_tokens': 0, 'reasoning_tokens': 0, 'rejected_prediction_tokens': 0}, 'prompt_tokens_details': {'audio_tokens': 0, 'cached_tokens': 0}}, 'model_name': 'gpt-4o-mini-2024-07-18', 'system_fingerprint': 'fp_34a54ae93c', 'id': 'chatcmpl-BnmWs6PahGF30ZcTR9N38EQlVqxHI', 'service_tier': 'default', 'finish_reason': 'stop', 'logprobs': None} id='run--f71e711d-b432-4643-968e-682fb774e649-0' usage_metadata={'input_tokens': 184, 'output_tokens': 36, 'total_tokens': 220, 'input_token_details': {'audio': 0, 'cache_read': 0}, 'output_token_details': {'audio': 0, 'reasoning': 0}}\n"
     ]
    }
   ],
   "source": [
    "from langchain_openai.chat_models import ChatOpenAI\n",
    "from langchain_core.prompts import ChatPromptTemplate\n",
    "\n",
    "\n",
    "template = ChatPromptTemplate.from_messages(\n",
    "    [\n",
    "        (\n",
    "            \"system\",\n",
    "            '아래 컨텍스트를 바탕으로 질문에 답하세요. 제공된 정보를 사용하여 질문에 답할 수 없는 경우, \"모르겠습니다\"라고 답하세요.',\n",
    "        ),\n",
    "        (\"human\", \"Context: {context}\"),\n",
    "        (\"human\", \"Question: {question}\"),\n",
    "    ]\n",
    ")\n",
    "\n",
    "model = ChatOpenAI(model=\"gpt-4o-mini\")\n",
    "\n",
    "prompt = template.invoke(\n",
    "    {\n",
    "        \"context\": \"\"\"LangChain과 Microsoft Autogen은 복잡한 멀티에이전트 워크플로우를 구축할 수 있는 강력한 오픈소스 Agentic AI 프레임워크를 제공합니다!!!\n",
    "                    OpenAI와 Dust.tt는 사용자가 직접 구성 가능한 커스텀 에이전트 플랫폼을 통해 직관적이고 유연한 Agent 개발을 지원합니다!!!\n",
    "                    CrewAI, LlamaIndex, Reka 등은 각기 다른 도메인에서 협업형, 검색 강화형, 실행 중심의 Agentic 시스템을 전문적으로 제공합니다!!!\"\"\",\n",
    "        \"question\": \"Agentic AI의 플랫폼을 제공하는 업체는?\",\n",
    "    }\n",
    ")\n",
    "\n",
    "print(model.invoke(prompt))\n"
   ]
  },
  {
   "cell_type": "markdown",
   "id": "bfb775d1",
   "metadata": {},
   "source": [
    "##### Structured output"
   ]
  },
  {
   "cell_type": "code",
   "execution_count": 9,
   "id": "6fbe006a",
   "metadata": {},
   "outputs": [
    {
     "name": "stdout",
     "output_type": "stream",
     "text": [
      "answer='둘 다 같은 무게입니다.' justification='1파운드는 무게의 단위로, 벽돌 1파운드와 깃털 1파운드는 각각 1파운드이므로 무게가 동일합니다. 다만, 벽돌은 밀도가 높아 부피가 작고, 깃털은 밀도가 낮아 부피가 크기 때문에 시각적으로는 깃털이 더 가벼워 보일 수 있습니다.'\n"
     ]
    }
   ],
   "source": [
    "from langchain_openai import ChatOpenAI\n",
    "from pydantic import BaseModel\n",
    "\n",
    "\n",
    "class AnswerWithJustification(BaseModel):\n",
    "    \"\"\"An answer to the user's question along with justification for the answer.\"\"\"\n",
    "\n",
    "    answer: str\n",
    "    \"\"\"The answer to the user's question\"\"\"\n",
    "    justification: str\n",
    "    \"\"\"Justification for the answer\"\"\"\n",
    "\n",
    "\n",
    "llm = ChatOpenAI(model=\"gpt-4o-mini\", temperature=0)\n",
    "structured_llm = llm.with_structured_output(AnswerWithJustification)\n",
    "\n",
    "response = structured_llm.invoke(\n",
    "    \"벽돌 1파운드와 깃털 1파운드 중 어느 것이 더 무거운가\")\n",
    "print(response)\n"
   ]
  },
  {
   "cell_type": "markdown",
   "id": "cbd9928a",
   "metadata": {},
   "source": [
    "##### imperative\n",
    "\n",
    "template.invoke()와 model.invoke()를 명확하게 순서대로 호출"
   ]
  },
  {
   "cell_type": "code",
   "execution_count": 10,
   "id": "d412b98f",
   "metadata": {},
   "outputs": [
    {
     "name": "stdout",
     "output_type": "stream",
     "text": [
      "Agentic AI의 플랫폼을 제공하는 업체에는 다음과 같은 회사들이 포함됩니다:\n",
      "\n",
      "1. **OpenAI** - 다양한 AI 모델과 API를 제공하여 기업과 개발자들이 AI 기능을 통합할 수 있도록 지원합니다.\n",
      "2. **Google Cloud AI** - 머신러닝 및 AI 도구를 제공하여 기업들이 AI 기반 솔루션을 구축하고 배포할 수 있도록 돕습니다.\n",
      "3. **IBM Watson** - 자연어 처리, 머신러닝 등 다양한 AI 서비스를 제공하여 기업의 비즈니스 문제를 해결하는 데 도움을 줍니다.\n",
      "4. **Microsoft Azure AI** - AI 및 머신러닝 서비스를 클라우드 플랫폼으로 제공하여 개발자들이 손쉽게 AI 기능을 개발할 수 있도록 합니다.\n",
      "5. **Amazon Web Services (AWS) AI** - 다양한 AI 서비스와 도구를 제공하여 기업들이 AI 솔루션을 구축할 수 있도록 합니다.\n",
      "\n",
      "이 외에도 여러 스타트업과 기업들이 다양한 형태의 Agentic AI 플랫폼을 개발하고 있습니다. 필요에 따라 특정 기능이나 산업에 맞는 솔루션을 제공하는 업체를 찾는 것이 중요합니다.\n"
     ]
    }
   ],
   "source": [
    "from langchain_openai.chat_models import ChatOpenAI\n",
    "from langchain_core.prompts import ChatPromptTemplate\n",
    "from langchain_core.runnables import chain\n",
    "\n",
    "template = ChatPromptTemplate.from_messages(\n",
    "    [\n",
    "        (\"system\", \"당신은 도움을 주는 유용한 조수입니다.\"),\n",
    "        (\"human\", \"{question}\"),\n",
    "    ]\n",
    ")\n",
    "\n",
    "model = ChatOpenAI(model=\"gpt-4o-mini\")\n",
    "\n",
    "# @chain decorator adds the same Runnable interface for any function you write\n",
    "@chain\n",
    "def chatbot(values):\n",
    "    prompt = template.invoke(values)\n",
    "    return model.invoke(prompt)\n",
    "\n",
    "\n",
    "# use it\n",
    "\n",
    "response = chatbot.invoke({\"question\": \"Agentic AI의 플랫폼을 제공하는 업체는?\"})\n",
    "print(response.content)\n"
   ]
  },
  {
   "cell_type": "markdown",
   "id": "437dc61a",
   "metadata": {},
   "source": [
    "##### stream\n",
    "\n",
    "model.stream(...)"
   ]
  },
  {
   "cell_type": "code",
   "execution_count": 11,
   "id": "ad7cac51",
   "metadata": {},
   "outputs": [],
   "source": [
    "from langchain_core.runnables import chain\n",
    "from langchain_openai.chat_models import ChatOpenAI\n",
    "from langchain_core.prompts import ChatPromptTemplate\n",
    "\n",
    "\n",
    "model = ChatOpenAI(model=\"gpt-4o-mini\")\n",
    "\n",
    "\n",
    "template = ChatPromptTemplate.from_messages(\n",
    "    [\n",
    "        (\"system\", \"당신은 도움을 주는 유용한 조수입니다.\"),\n",
    "        (\"human\", \"{question}\"),\n",
    "    ]\n",
    ")\n",
    "\n",
    "\n",
    "@chain\n",
    "def chatbot(values):\n",
    "    prompt = template.invoke(values)\n",
    "    for token in model.stream(prompt):\n",
    "        yield token\n",
    "\n",
    "\n",
    "# for part in chatbot.stream({\"question\": \"Agentic AI의 플랫폼을 제공하는 업체는?\"}):\n",
    "#    print(part)\n"
   ]
  },
  {
   "cell_type": "markdown",
   "id": "e59f91eb",
   "metadata": {},
   "source": [
    "##### Declarative"
   ]
  },
  {
   "cell_type": "code",
   "execution_count": null,
   "id": "9512404d",
   "metadata": {},
   "outputs": [],
   "source": [
    "from langchain_openai.chat_models import ChatOpenAI\n",
    "from langchain_core.prompts import ChatPromptTemplate\n",
    "\n",
    "# the building blocks\n",
    "\n",
    "template = ChatPromptTemplate.from_messages(\n",
    "    [\n",
    "        (\"system\", \"당신은 도움을 주는 유용한 조수입니다.\"),\n",
    "        (\"human\", \"{question}\"),\n",
    "    ]\n",
    ")\n",
    "\n",
    "model = ChatOpenAI(gpt-4o-mini)\n",
    "\n",
    "chatbot = template | model\n",
    "\n",
    "response = chatbot.invoke({\"question\": \"Agentic AI의 플랫폼을 제공하는 업체는?\"})\n",
    "print(response.content)\n",
    "\n",
    "# streaming\n",
    "for part in chatbot.stream({\"question\": \"Agentic AI의 플랫폼을 제공하는 업체는?\"}):\n",
    "    print(part)\n"
   ]
  }
 ],
 "metadata": {
  "kernelspec": {
   "display_name": "base",
   "language": "python",
   "name": "python3"
  },
  "language_info": {
   "codemirror_mode": {
    "name": "ipython",
    "version": 3
   },
   "file_extension": ".py",
   "mimetype": "text/x-python",
   "name": "python",
   "nbconvert_exporter": "python",
   "pygments_lexer": "ipython3",
   "version": "3.12.7"
  }
 },
 "nbformat": 4,
 "nbformat_minor": 5
}
